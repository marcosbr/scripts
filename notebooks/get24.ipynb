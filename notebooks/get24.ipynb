{
 "metadata": {
  "name": "",
  "signature": "sha256:8e2f8c322582698b24aa06ef08246ea66bfdd0c93588e8f6b5aa4db928482bf4"
 },
 "nbformat": 3,
 "nbformat_minor": 0,
 "worksheets": [
  {
   "cells": [
    {
     "cell_type": "code",
     "collapsed": false,
     "input": [
      "from obspy.core import read, UTCDateTime\n",
      "from obspy.arclink import Client\n",
      "from obspy.sac import SacIO\n",
      "from optparse import OptionParser\n",
      "from os import mkdir"
     ],
     "language": "python",
     "metadata": {},
     "outputs": [],
     "prompt_number": 1
    },
    {
     "cell_type": "markdown",
     "metadata": {},
     "source": [
      "Bulk Data Downloader - UnB - 2014\n",
      "Modified from Bulk Data Download - IAG-USP - 2012\n",
      "\n",
      "Mandatory option is missing: [ net ]\n",
      "\n",
      "Usage: get24h.py -n NET -s STATION -c CHA (Default, ALL) -b YYYY-DAY -e YYYY-DAY\n",
      "\n",
      "Script criado para baixar arquivos de 24h do Servidor ArcLink\n",
      "\n",
      "Options:\n",
      "\n",
      " -h, --help               Show this help message and exit\n",
      " -n NET, --network=NET    Network code;\n",
      " -s STA, --station=STA    Station code\n",
      " -c CHA, --channel=CHA    Channel code\n",
      " -b B, --btime=B          e.g YYYY-JULDAY, First Day to download\n",
      " -e E, --etime=E          e.g YYYY-JULDAY, Last Day to download\n",
      " -o OUT, --outFile=OUT    Outfile types: 1=SAC 2=MSEED\n",
      " -a ARC, --arclink=ARC    Arclink Server types: 1=UnB 2=IAG 3=IRIS 4=ON\n",
      "\n",
      "Ex: \n",
      "\n",
      "get24h.py -n BR -s IPMB -b 2013-350 -e 2013-355 -o 2 -a 3\n",
      "\n",
      "Marcelo Rocha - UnB - 2014/04/26 - V2.0\n",
      "\n"
     ]
    },
    {
     "cell_type": "code",
     "collapsed": false,
     "input": [],
     "language": "python",
     "metadata": {},
     "outputs": [],
     "prompt_number": 3
    },
    {
     "cell_type": "code",
     "collapsed": false,
     "input": [],
     "language": "python",
     "metadata": {},
     "outputs": []
    }
   ],
   "metadata": {}
  }
 ]
}