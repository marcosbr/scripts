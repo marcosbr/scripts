{
 "metadata": {
  "name": "",
  "signature": "sha256:643c201ca033987180ae1b0d0f4e4ebb9008809dd642abbd1861f0ba1fbe85e1"
 },
 "nbformat": 3,
 "nbformat_minor": 0,
 "worksheets": [
  {
   "cells": [
    {
     "cell_type": "code",
     "collapsed": false,
     "input": [],
     "language": "python",
     "metadata": {},
     "outputs": []
    }
   ],
   "metadata": {}
  }
 ]
}